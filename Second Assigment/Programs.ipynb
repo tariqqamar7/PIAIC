{
 "cells": [
  {
   "cell_type": "markdown",
   "metadata": {},
   "source": [
    "# PIAIC (2nd Assignment)"
   ]
  },
  {
   "cell_type": "markdown",
   "metadata": {},
   "source": [
    "## Question 01: "
   ]
  },
  {
   "cell_type": "markdown",
   "metadata": {},
   "source": [
    "Write a program to solve a classic ancient Chinese puzzle:\n",
    "We count 35 heads and 94 legs among the chickens and rabbits in a\n",
    "farm. How many rabbits and how many chickens do we have?"
   ]
  },
  {
   "cell_type": "code",
   "execution_count": 68,
   "metadata": {},
   "outputs": [
    {
     "name": "stdout",
     "output_type": "stream",
     "text": [
      "Chicken :  23 \n",
      "Rabbit:  12\n"
     ]
    }
   ],
   "source": [
    "heads = 35\n",
    "c_leg,r_leg = 2,4\n",
    "for i in range(heads):\n",
    "    j = heads - i\n",
    "    if (i*c_leg)+(j*r_leg) == 94:\n",
    "        chicken = i\n",
    "        rabbit = j      \n",
    "print(\"Chicken : \",chicken,\"\\nRabbit: \",rabbit)    "
   ]
  },
  {
   "cell_type": "markdown",
   "metadata": {},
   "source": [
    "## Question 02: "
   ]
  },
  {
   "cell_type": "markdown",
   "metadata": {},
   "source": [
    "Please write a program which accepts a string from console and print\n",
    "the characters that have even indexes."
   ]
  },
  {
   "cell_type": "code",
   "execution_count": 6,
   "metadata": {},
   "outputs": [
    {
     "name": "stdout",
     "output_type": "stream",
     "text": [
      "Enter a Text : H1e2l3l4o5w6o7r8l9d\n",
      "Helloworld"
     ]
    }
   ],
   "source": [
    "txt = list(input(\"Enter a Text : \"))\n",
    "for i in txt[::2]:\n",
    "    print(i,end=\"\")"
   ]
  },
  {
   "cell_type": "markdown",
   "metadata": {},
   "source": [
    "## Question 03:"
   ]
  },
  {
   "cell_type": "markdown",
   "metadata": {},
   "source": [
    "Please write a program which accepts a string from console and print\n",
    "it in reverse order."
   ]
  },
  {
   "cell_type": "code",
   "execution_count": 7,
   "metadata": {},
   "outputs": [
    {
     "name": "stdout",
     "output_type": "stream",
     "text": [
      "Enter a Text : rise to vote sir\n",
      "ris etov ot esir"
     ]
    }
   ],
   "source": [
    "txt = list(input(\"Enter a Text : \"))\n",
    "for i in txt[::-1]:\n",
    "    print(i,end=\"\")"
   ]
  },
  {
   "cell_type": "markdown",
   "metadata": {},
   "source": [
    "## Question 04:"
   ]
  },
  {
   "cell_type": "markdown",
   "metadata": {},
   "source": [
    "Please write a program which count and print the numbers of each\n",
    "character in a string input by console."
   ]
  },
  {
   "cell_type": "code",
   "execution_count": 82,
   "metadata": {},
   "outputs": [
    {
     "name": "stdout",
     "output_type": "stream",
     "text": [
      "Enter a Text : abcdefgabc\n",
      "a,2\n",
      "b,2\n",
      "c,2\n",
      "d,1\n",
      "e,1\n",
      "f,1\n",
      "g,1\n"
     ]
    }
   ],
   "source": [
    "txt = input(\"Enter a Text : \")\n",
    "d = {}\n",
    "for i in txt:\n",
    "    if i in d:\n",
    "        d[i] += 1\n",
    "    else:\n",
    "        d[i] = 1\n",
    "for i,j in d.items():\n",
    "    print(\"{},{}\".format(i,j))"
   ]
  },
  {
   "cell_type": "markdown",
   "metadata": {},
   "source": [
    "## Question 05:"
   ]
  },
  {
   "cell_type": "markdown",
   "metadata": {},
   "source": [
    "Define a class named Shape and its subclass Square. The Square class\n",
    "has an init function which takes a length as argument. Both classes\n",
    "have a area function which can print the area of the shape where\n",
    "Shape's area is 0 by default."
   ]
  },
  {
   "cell_type": "code",
   "execution_count": 67,
   "metadata": {
    "scrolled": true
   },
   "outputs": [
    {
     "name": "stdout",
     "output_type": "stream",
     "text": [
      "25\n"
     ]
    }
   ],
   "source": [
    "class Shape(object):\n",
    "    def __init__(self):\n",
    "        pass\n",
    "    def area(self):\n",
    "        return 0\n",
    "class Square(Shape):\n",
    "    def __init__(self,length):\n",
    "        self.length = length\n",
    "        Shape.__init__(self)\n",
    "    def area(self):\n",
    "        return self.length*self.length\n",
    "    obj1 = Square(5)\n",
    "    print(obj1.area())"
   ]
  },
  {
   "cell_type": "markdown",
   "metadata": {},
   "source": [
    "## Question 06:"
   ]
  },
  {
   "cell_type": "markdown",
   "metadata": {},
   "source": [
    "Write a function to compute 5/0 and use try/except to catch the\n",
    "exceptions."
   ]
  },
  {
   "cell_type": "code",
   "execution_count": 124,
   "metadata": {},
   "outputs": [
    {
     "name": "stdout",
     "output_type": "stream",
     "text": [
      "division by zero\n"
     ]
    }
   ],
   "source": [
    "try:\n",
    "    a = 5/0\n",
    "    print(a)\n",
    "except ZeroDivisionError as e:\n",
    "    print(e)"
   ]
  },
  {
   "cell_type": "markdown",
   "metadata": {},
   "source": [
    "## Question 07:"
   ]
  },
  {
   "cell_type": "markdown",
   "metadata": {},
   "source": [
    "Assuming that we have some email addresses in the\n",
    "\"username@companyname.com\" format, please write program to print the\n",
    "user name of a given email address. Both user names and company\n",
    "names are composed of letters only."
   ]
  },
  {
   "cell_type": "code",
   "execution_count": 68,
   "metadata": {},
   "outputs": [
    {
     "name": "stdout",
     "output_type": "stream",
     "text": [
      "Enter your email address composed of letters only in this format (username@companyname.com): tariqqamar@gmail.com\n",
      "Username :  tariqqamar\n"
     ]
    }
   ],
   "source": [
    "import re\n",
    "email = input(\"Enter your email address composed of letters only in this format (username@companyname.com): \")\n",
    "username = re.match(\"(\\w+)@((\\w+\\.)+(com))\",email)\n",
    "print(\"Username : \",username.group(1))"
   ]
  },
  {
   "cell_type": "markdown",
   "metadata": {},
   "source": [
    "## Question 08:"
   ]
  },
  {
   "cell_type": "markdown",
   "metadata": {},
   "source": [
    "Write a program which accepts a sequence of words separated by\n",
    "whitespace as input to print the words composed of digits only."
   ]
  },
  {
   "cell_type": "code",
   "execution_count": 20,
   "metadata": {},
   "outputs": [
    {
     "name": "stdout",
     "output_type": "stream",
     "text": [
      "Enter a words separated by whitespaces : 2 cats and 3 dogs.\n",
      "['2', '3']\n"
     ]
    }
   ],
   "source": [
    "import re\n",
    "seq = input(\"Enter a words separated by whitespaces : \")\n",
    "group = \"\\d+\"\n",
    "words = re.findall(group,seq)\n",
    "print(words)"
   ]
  },
  {
   "cell_type": "markdown",
   "metadata": {},
   "source": [
    "## Question 09:"
   ]
  },
  {
   "cell_type": "markdown",
   "metadata": {},
   "source": [
    "Write a program to compute 1/2+2/3+3/4+...+n/n+1 with a given n\n",
    "input by console (n>0)."
   ]
  },
  {
   "cell_type": "code",
   "execution_count": 62,
   "metadata": {},
   "outputs": [
    {
     "name": "stdout",
     "output_type": "stream",
     "text": [
      "Enter a number : 5\n",
      "3.55\n"
     ]
    }
   ],
   "source": [
    "aa = 0.0\n",
    "n = int(input(\"Enter a number : \"))\n",
    "for i in range(1,n+1):\n",
    "    if n > 0:\n",
    "        aa += float(float(i)/(i+1))\n",
    "print(\"{0:.2f}\".format(aa))"
   ]
  },
  {
   "cell_type": "markdown",
   "metadata": {},
   "source": [
    "## Question 10:"
   ]
  },
  {
   "cell_type": "markdown",
   "metadata": {},
   "source": [
    "Write a program to compute:\n",
    "f(n)=f(n-1)+100 when n>0\n",
    "and f(0)=1\n",
    "with a given n input by console (n>0)."
   ]
  },
  {
   "cell_type": "code",
   "execution_count": 5,
   "metadata": {},
   "outputs": [
    {
     "name": "stdout",
     "output_type": "stream",
     "text": [
      "Enter the value of n : 5\n",
      "500\n"
     ]
    }
   ],
   "source": [
    "n = int(input(\"Enter the value of n : \"))\n",
    "def equation(n):\n",
    "    if n == 0:\n",
    "        return 0\n",
    "    elif n > 0:\n",
    "        return equation(n-1) + 100\n",
    "    \n",
    "print(equation(n))"
   ]
  },
  {
   "cell_type": "markdown",
   "metadata": {},
   "source": [
    "## Question 11:"
   ]
  },
  {
   "cell_type": "markdown",
   "metadata": {},
   "source": [
    "A website requires the users to input username and password to\n",
    "register. Write a program to check the validity of password input by\n",
    "users.Program should accept a sequence of comma separated passwords\n",
    "and will check them according to the criteria. Passwords that\n",
    "match the criteria are to be printed, each separated by a comma."
   ]
  },
  {
   "cell_type": "markdown",
   "metadata": {},
   "source": [
    "Following are the criteria for checking the password:\n",
    "- At least 1 letter between [a-z]\n",
    "- At least 1 number between [0-9]\n",
    "- At least 1 letter between [A-Z]\n",
    "- At least 1 character from [$#@]\n",
    "- Minimum length of transaction password: 6\n",
    "- Maximum length of transaction password: 12"
   ]
  },
  {
   "cell_type": "code",
   "execution_count": 9,
   "metadata": {},
   "outputs": [
    {
     "name": "stdout",
     "output_type": "stream",
     "text": [
      "Enter Your Username : tariqqamar7\n",
      "Enter Your Password : ABd1234@1,a F1#,2w3E*,2We3345\n",
      "Make sure your password has a special character in it\n",
      "Make sure your password is at least 6 letters\n",
      "Make sure your password is at least 6 letters\n",
      "Your Username is:  tariqqamar7 \n",
      "Your password is:  ABd1234@1\n"
     ]
    }
   ],
   "source": [
    "import re\n",
    "def validaton():\n",
    "    username = input(\"Enter Your Username : \")\n",
    "    password = input(\"Enter Your Password : \").split(',')\n",
    "    pas = list(password)\n",
    "    for i in range(len(pas)):\n",
    "        d = pas.pop()\n",
    "        if len(d) < 6:\n",
    "            print(\"Make sure your password is at least 6 letters\")\n",
    "        elif len(d) > 12:\n",
    "            print(\"Make sure your password is at least 12 letters\")\n",
    "        elif not re.search('[0-9]',d):\n",
    "            print(\"Make sure your password has a number in it\")\n",
    "        elif not re.search('[A-Z]',d): \n",
    "            print(\"Make sure your password has a capital letter in it\")\n",
    "        elif not re.search('[a-z]',d): \n",
    "            print(\"Make sure your password has a small letter in it\")\n",
    "        elif not re.search(\"[@#$]\",d): \n",
    "            print(\"Make sure your password has a special character in it\")\n",
    "        else:\n",
    "            print(\"Your Username is: \",username,\"\\nYour password is: \",d)\n",
    "            break\n",
    "validaton()"
   ]
  },
  {
   "cell_type": "markdown",
   "metadata": {},
   "source": [
    "## Question 12:"
   ]
  },
  {
   "cell_type": "markdown",
   "metadata": {},
   "source": [
    "You are required to write a program to sort the (name, age, height)\n",
    "tuples by ascending order where name is string, age and height are\n",
    "numbers. The tuples are input by console. The sort criteria is:\n",
    "- Sort based on name;\n",
    "- Then sort based on age;\n",
    "- Then sort by score.\n",
    " - The priority is that name > age > score."
   ]
  }
 ],
 "metadata": {
  "kernelspec": {
   "display_name": "Python 3",
   "language": "python",
   "name": "python3"
  },
  "language_info": {
   "codemirror_mode": {
    "name": "ipython",
    "version": 3
   },
   "file_extension": ".py",
   "mimetype": "text/x-python",
   "name": "python",
   "nbconvert_exporter": "python",
   "pygments_lexer": "ipython3",
   "version": "3.7.3"
  }
 },
 "nbformat": 4,
 "nbformat_minor": 2
}
