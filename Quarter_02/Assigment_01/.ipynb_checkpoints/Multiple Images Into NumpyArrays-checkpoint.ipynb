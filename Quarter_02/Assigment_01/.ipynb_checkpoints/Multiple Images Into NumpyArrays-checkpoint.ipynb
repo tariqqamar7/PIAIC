{
 "cells": [
  {
   "cell_type": "code",
   "execution_count": 18,
   "metadata": {},
   "outputs": [],
   "source": [
    "import os\n",
    "from PIL import Image\n",
    "import numpy as np"
   ]
  },
  {
   "cell_type": "code",
   "execution_count": 21,
   "metadata": {},
   "outputs": [
    {
     "name": "stdout",
     "output_type": "stream",
     "text": [
      "Folder Name: photos \n",
      "Total Number of files:  19 \n",
      "Files :\n",
      "\n",
      "\t 1.jpg\n",
      "\t 11.jpg\n",
      "\t 12.jpg\n",
      "\t 13.jpg\n",
      "\t 14.jpg\n",
      "\t 15.jpg\n",
      "\t 16.jpg\n",
      "\t 17.jpg\n",
      "\t 18.jpg\n",
      "\t 19.jpg\n",
      "\t 2.jpg\n",
      "\t 20.jpg\n",
      "\t 3.jpg\n",
      "\t 4.jpg\n",
      "\t 5.jpg\n",
      "\t 6.jpg\n",
      "\t 7.jpg\n",
      "\t 8.jpg\n",
      "\t 9.jpg\n"
     ]
    }
   ],
   "source": [
    "root_Dir = 'photos'\n",
    "search = os.walk(root_Dir)\n",
    "for dir_name,subList,file_names in search:\n",
    "    print(\"Folder Name:\", dir_name,\"\\nTotal Number of files: \",len(file_names),\"\\nFiles :\\n\")\n",
    "    for name in file_names:\n",
    "        print('\\t',name)"
   ]
  },
  {
   "cell_type": "code",
   "execution_count": 11,
   "metadata": {},
   "outputs": [],
   "source": [
    "image_list = []\n",
    "for imgages in range(len(file_names)):\n",
    "    image = Image.open(dir_name+'\\\\'+file_names[imgages])\n",
    "    resized_image = image.resize((200,200))\n",
    "    image_array = np.array(resized_image)\n",
    "    image_list.append(image_array)"
   ]
  },
  {
   "cell_type": "code",
   "execution_count": 13,
   "metadata": {},
   "outputs": [],
   "source": [
    "image_list_array = np.array(image_list)"
   ]
  },
  {
   "cell_type": "code",
   "execution_count": 14,
   "metadata": {},
   "outputs": [
    {
     "data": {
      "text/plain": [
       "2280000"
      ]
     },
     "execution_count": 14,
     "metadata": {},
     "output_type": "execute_result"
    }
   ],
   "source": [
    "image_list_array.size"
   ]
  },
  {
   "cell_type": "code",
   "execution_count": 15,
   "metadata": {},
   "outputs": [
    {
     "data": {
      "text/plain": [
       "4"
      ]
     },
     "execution_count": 15,
     "metadata": {},
     "output_type": "execute_result"
    }
   ],
   "source": [
    "image_list_array.ndim"
   ]
  },
  {
   "cell_type": "code",
   "execution_count": 16,
   "metadata": {},
   "outputs": [
    {
     "data": {
      "text/plain": [
       "(19, 200, 200, 3)"
      ]
     },
     "execution_count": 16,
     "metadata": {},
     "output_type": "execute_result"
    }
   ],
   "source": [
    "image_list_array.shape"
   ]
  },
  {
   "cell_type": "markdown",
   "metadata": {},
   "source": [
    "## Testing"
   ]
  },
  {
   "cell_type": "code",
   "execution_count": null,
   "metadata": {},
   "outputs": [],
   "source": []
  }
 ],
 "metadata": {
  "kernelspec": {
   "display_name": "Python 3",
   "language": "python",
   "name": "python3"
  },
  "language_info": {
   "codemirror_mode": {
    "name": "ipython",
    "version": 3
   },
   "file_extension": ".py",
   "mimetype": "text/x-python",
   "name": "python",
   "nbconvert_exporter": "python",
   "pygments_lexer": "ipython3",
   "version": "3.7.3"
  }
 },
 "nbformat": 4,
 "nbformat_minor": 2
}
